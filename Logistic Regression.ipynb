{
 "cells": [
  {
   "cell_type": "markdown",
   "metadata": {},
   "source": [
    "# Logistic Regression"
   ]
  },
  {
   "cell_type": "code",
   "execution_count": 1,
   "metadata": {},
   "outputs": [],
   "source": [
    "import numpy as np\n",
    "import pandas as pd\n",
    "import matplotlib.pyplot as plt\n",
    "import seaborn as sns"
   ]
  },
  {
   "cell_type": "code",
   "execution_count": 2,
   "metadata": {},
   "outputs": [],
   "source": [
    "def sigmoid(x):\n",
    "    return 1/(1+np.exp(-x))"
   ]
  },
  {
   "cell_type": "code",
   "execution_count": 4,
   "metadata": {},
   "outputs": [],
   "source": [
    "x = np.arange(-10,11)"
   ]
  },
  {
   "cell_type": "code",
   "execution_count": 5,
   "metadata": {},
   "outputs": [],
   "source": [
    "y = sigmoid(x)"
   ]
  },
  {
   "cell_type": "code",
   "execution_count": 7,
   "metadata": {},
   "outputs": [
    {
     "data": {
      "text/plain": [
       "array([-10,  -9,  -8,  -7,  -6,  -5,  -4,  -3,  -2,  -1,   0,   1,   2,\n",
       "         3,   4,   5,   6,   7,   8,   9,  10])"
      ]
     },
     "execution_count": 7,
     "metadata": {},
     "output_type": "execute_result"
    }
   ],
   "source": [
    "x"
   ]
  },
  {
   "cell_type": "code",
   "execution_count": 8,
   "metadata": {},
   "outputs": [
    {
     "data": {
      "text/plain": [
       "array([4.53978687e-05, 1.23394576e-04, 3.35350130e-04, 9.11051194e-04,\n",
       "       2.47262316e-03, 6.69285092e-03, 1.79862100e-02, 4.74258732e-02,\n",
       "       1.19202922e-01, 2.68941421e-01, 5.00000000e-01, 7.31058579e-01,\n",
       "       8.80797078e-01, 9.52574127e-01, 9.82013790e-01, 9.93307149e-01,\n",
       "       9.97527377e-01, 9.99088949e-01, 9.99664650e-01, 9.99876605e-01,\n",
       "       9.99954602e-01])"
      ]
     },
     "execution_count": 8,
     "metadata": {},
     "output_type": "execute_result"
    }
   ],
   "source": [
    "y"
   ]
  },
  {
   "cell_type": "code",
   "execution_count": 9,
   "metadata": {},
   "outputs": [
    {
     "data": {
      "image/png": "[encoded data removed]",
      "text/plain": [
       "<Figure size 432x288 with 1 Axes>"
      ]
     },
     "metadata": {
      "needs_background": "light"
     },
     "output_type": "display_data"
    }
   ],
   "source": [
    "plt.plot(x,y)\n",
    "plt.show()"
   ]
  },
  {
   "cell_type": "code",
   "execution_count": 10,
   "metadata": {},
   "outputs": [],
   "source": [
    "# read csv"
   ]
  },
  {
   "cell_type": "code",
   "execution_count": 11,
   "metadata": {},
   "outputs": [],
   "source": [
    "df = pd.read_csv(\"insurance.csv\")"
   ]
  },
  {
   "cell_type": "code",
   "execution_count": 12,
   "metadata": {},
   "outputs": [
    {
     "data": {
      "text/html": [
       "<div>\n",
       "<style scoped>\n",
       "    .dataframe tbody tr th:only-of-type {\n",
       "        vertical-align: middle;\n",
       "    }\n",
       "\n",
       "    .dataframe tbody tr th {\n",
       "        vertical-align: top;\n",
       "    }\n",
       "\n",
       "    .dataframe thead th {\n",
       "        text-align: right;\n",
       "    }\n",
       "</style>\n",
       "<table border=\"1\" class=\"dataframe\">\n",
       "  <thead>\n",
       "    <tr style=\"text-align: right;\">\n",
       "      <th></th>\n",
       "      <th>age</th>\n",
       "      <th>sex</th>\n",
       "      <th>bmi</th>\n",
       "      <th>children</th>\n",
       "      <th>smoker</th>\n",
       "      <th>region</th>\n",
       "      <th>charges</th>\n",
       "      <th>insuranceclaim</th>\n",
       "    </tr>\n",
       "  </thead>\n",
       "  <tbody>\n",
       "    <tr>\n",
       "      <td>0</td>\n",
       "      <td>19</td>\n",
       "      <td>0</td>\n",
       "      <td>27.900</td>\n",
       "      <td>0</td>\n",
       "      <td>1</td>\n",
       "      <td>3</td>\n",
       "      <td>16884.92400</td>\n",
       "      <td>1</td>\n",
       "    </tr>\n",
       "    <tr>\n",
       "      <td>1</td>\n",
       "      <td>18</td>\n",
       "      <td>1</td>\n",
       "      <td>33.770</td>\n",
       "      <td>1</td>\n",
       "      <td>0</td>\n",
       "      <td>2</td>\n",
       "      <td>1725.55230</td>\n",
       "      <td>1</td>\n",
       "    </tr>\n",
       "    <tr>\n",
       "      <td>2</td>\n",
       "      <td>28</td>\n",
       "      <td>1</td>\n",
       "      <td>33.000</td>\n",
       "      <td>3</td>\n",
       "      <td>0</td>\n",
       "      <td>2</td>\n",
       "      <td>4449.46200</td>\n",
       "      <td>0</td>\n",
       "    </tr>\n",
       "    <tr>\n",
       "      <td>3</td>\n",
       "      <td>33</td>\n",
       "      <td>1</td>\n",
       "      <td>22.705</td>\n",
       "      <td>0</td>\n",
       "      <td>0</td>\n",
       "      <td>1</td>\n",
       "      <td>21984.47061</td>\n",
       "      <td>0</td>\n",
       "    </tr>\n",
       "    <tr>\n",
       "      <td>4</td>\n",
       "      <td>32</td>\n",
       "      <td>1</td>\n",
       "      <td>28.880</td>\n",
       "      <td>0</td>\n",
       "      <td>0</td>\n",
       "      <td>1</td>\n",
       "      <td>3866.85520</td>\n",
       "      <td>1</td>\n",
       "    </tr>\n",
       "  </tbody>\n",
       "</table>\n",
       "</div>"
      ],
      "text/plain": [
       "   age  sex     bmi  children  smoker  region      charges  insuranceclaim\n",
       "0   19    0  27.900         0       1       3  16884.92400               1\n",
       "1   18    1  33.770         1       0       2   1725.55230               1\n",
       "2   28    1  33.000         3       0       2   4449.46200               0\n",
       "3   33    1  22.705         0       0       1  21984.47061               0\n",
       "4   32    1  28.880         0       0       1   3866.85520               1"
      ]
     },
     "execution_count": 12,
     "metadata": {},
     "output_type": "execute_result"
    }
   ],
   "source": [
    "df.head()"
   ]
  },
  {
   "cell_type": "code",
   "execution_count": 13,
   "metadata": {},
   "outputs": [
    {
     "data": {
      "image/png": "[encoded data removed]",
      "text/plain": [
       "<Figure size 432x288 with 1 Axes>"
      ]
     },
     "metadata": {
      "needs_background": "light"
     },
     "output_type": "display_data"
    }
   ],
   "source": [
    "plt.figure()\n",
    "sns.countplot(data=df,x=\"insuranceclaim\")\n",
    "plt.show()"
   ]
  },
  {
   "cell_type": "code",
   "execution_count": 14,
   "metadata": {},
   "outputs": [
    {
     "data": {
      "image/png": "[encoded data removed]",
      "text/plain": [
       "<Figure size 432x288 with 1 Axes>"
      ]
     },
     "metadata": {
      "needs_background": "light"
     },
     "output_type": "display_data"
    }
   ],
   "source": [
    "plt.figure()\n",
    "sns.countplot(data=df,x=\"insuranceclaim\",hue=\"sex\")\n",
    "plt.show()"
   ]
  },
  {
   "cell_type": "code",
   "execution_count": 15,
   "metadata": {},
   "outputs": [
    {
     "data": {
      "image/png": "[encoded data removed]",
      "text/plain": [
       "<Figure size 432x288 with 1 Axes>"
      ]
     },
     "metadata": {
      "needs_background": "light"
     },
     "output_type": "display_data"
    }
   ],
   "source": [
    "plt.figure()\n",
    "sns.countplot(data=df,x=\"insuranceclaim\",hue=\"children\")\n",
    "plt.show()"
   ]
  },
  {
   "cell_type": "code",
   "execution_count": 16,
   "metadata": {},
   "outputs": [
    {
     "data": {
      "image/png": "[encoded data removed]",
      "text/plain": [
       "<Figure size 432x288 with 1 Axes>"
      ]
     },
     "metadata": {
      "needs_background": "light"
     },
     "output_type": "display_data"
    }
   ],
   "source": [
    "plt.figure()\n",
    "sns.countplot(data=df,x=\"insuranceclaim\",hue=\"smoker\")\n",
    "plt.show()"
   ]
  },
  {
   "cell_type": "code",
   "execution_count": 17,
   "metadata": {},
   "outputs": [
    {
     "data": {
      "image/png": "[encoded data removed]",
      "text/plain": [
       "<Figure size 432x288 with 1 Axes>"
      ]
     },
     "metadata": {
      "needs_background": "light"
     },
     "output_type": "display_data"
    }
   ],
   "source": [
    "plt.figure()\n",
    "sns.countplot(data=df,x=\"insuranceclaim\",hue=\"region\")\n",
    "plt.show()"
   ]
  },
  {
   "cell_type": "code",
   "execution_count": 18,
   "metadata": {},
   "outputs": [],
   "source": [
    "# continous columns"
   ]
  },
  {
   "cell_type": "code",
   "execution_count": 20,
   "metadata": {},
   "outputs": [
    {
     "data": {
      "image/png": "[encoded data removed]",
      "text/plain": [
       "<Figure size 432x288 with 1 Axes>"
      ]
     },
     "metadata": {
      "needs_background": "light"
     },
     "output_type": "display_data"
    }
   ],
   "source": [
    "plt.figure()\n",
    "sns.scatterplot(data=df, x=\"bmi\", y=\"insuranceclaim\")\n",
    "plt.show()"
   ]
  },
  {
   "cell_type": "code",
   "execution_count": 21,
   "metadata": {},
   "outputs": [
    {
     "data": {
      "image/png": "[encoded data removed]",
      "text/plain": [
       "<Figure size 432x288 with 1 Axes>"
      ]
     },
     "metadata": {
      "needs_background": "light"
     },
     "output_type": "display_data"
    }
   ],
   "source": [
    "plt.figure()\n",
    "sns.scatterplot(data=df, x=\"charges\", y=\"insuranceclaim\")\n",
    "plt.show()"
   ]
  },
  {
   "cell_type": "code",
   "execution_count": 22,
   "metadata": {},
   "outputs": [],
   "source": [
    "X = df.iloc[:,:-1]\n",
    "y = df.iloc[:,-1]"
   ]
  },
  {
   "cell_type": "code",
   "execution_count": 23,
   "metadata": {},
   "outputs": [],
   "source": [
    "from sklearn.model_selection import train_test_split"
   ]
  },
  {
   "cell_type": "code",
   "execution_count": 24,
   "metadata": {},
   "outputs": [],
   "source": [
    "X_train,X_test,y_train,y_test = train_test_split(X,y,test_size=0.3,random_state=1)"
   ]
  },
  {
   "cell_type": "code",
   "execution_count": 25,
   "metadata": {},
   "outputs": [],
   "source": [
    "# baseline model"
   ]
  },
  {
   "cell_type": "code",
   "execution_count": 26,
   "metadata": {},
   "outputs": [],
   "source": [
    "from sklearn.linear_model import LogisticRegression"
   ]
  },
  {
   "cell_type": "code",
   "execution_count": 27,
   "metadata": {},
   "outputs": [],
   "source": [
    "log = LogisticRegression()"
   ]
  },
  {
   "cell_type": "code",
   "execution_count": 28,
   "metadata": {},
   "outputs": [
    {
     "name": "stderr",
     "output_type": "stream",
     "text": [
      "/home/sukamal/anaconda3/lib/python3.7/site-packages/sklearn/linear_model/logistic.py:432: FutureWarning: Default solver will be changed to 'lbfgs' in 0.22. Specify a solver to silence this warning.\n",
      "  FutureWarning)\n"
     ]
    },
    {
     "data": {
      "text/plain": [
       "LogisticRegression(C=1.0, class_weight=None, dual=False, fit_intercept=True,\n",
       "                   intercept_scaling=1, l1_ratio=None, max_iter=100,\n",
       "                   multi_class='warn', n_jobs=None, penalty='l2',\n",
       "                   random_state=None, solver='warn', tol=0.0001, verbose=0,\n",
       "                   warm_start=False)"
      ]
     },
     "execution_count": 28,
     "metadata": {},
     "output_type": "execute_result"
    }
   ],
   "source": [
    "log.fit(X_train,y_train)"
   ]
  },
  {
   "cell_type": "code",
   "execution_count": 29,
   "metadata": {},
   "outputs": [],
   "source": [
    "y_pred = log.predict(X_test)"
   ]
  },
  {
   "cell_type": "code",
   "execution_count": 30,
   "metadata": {},
   "outputs": [
    {
     "data": {
      "text/plain": [
       "array([1, 1, 1, 0, 0, 1, 0, 1, 1, 1, 1, 0, 0, 0, 1, 0, 1, 0, 1, 1, 1, 1,\n",
       "       1, 1, 1, 0, 0, 1, 0, 1, 1, 0, 0, 1, 0, 1, 1, 0, 1, 1, 0, 1, 0, 1,\n",
       "       0, 1, 1, 1, 1, 0, 1, 0, 1, 0, 1, 1, 1, 1, 1, 1, 1, 1, 1, 1, 1, 1,\n",
       "       0, 1, 0, 1, 1, 1, 1, 0, 1, 1, 0, 1, 1, 0, 0, 0, 0, 1, 1, 1, 0, 1,\n",
       "       0, 0, 1, 0, 0, 1, 1, 1, 0, 0, 1, 0, 1, 1, 0, 1, 1, 1, 1, 0, 1, 1,\n",
       "       1, 0, 1, 0, 1, 1, 0, 1, 0, 1, 1, 0, 1, 1, 1, 0, 0, 0, 1, 0, 1, 0,\n",
       "       0, 1, 1, 1, 1, 1, 1, 1, 1, 0, 0, 1, 0, 1, 1, 0, 1, 0, 1, 0, 1, 1,\n",
       "       1, 1, 1, 0, 0, 1, 1, 1, 1, 0, 0, 1, 1, 0, 1, 1, 0, 1, 1, 1, 1, 0,\n",
       "       1, 0, 1, 0, 1, 1, 1, 1, 0, 1, 1, 1, 1, 0, 0, 1, 1, 0, 0, 1, 0, 1,\n",
       "       0, 0, 1, 0, 0, 1, 0, 1, 1, 0, 1, 1, 1, 1, 0, 0, 0, 1, 1, 1, 1, 1,\n",
       "       1, 1, 0, 0, 1, 1, 1, 1, 1, 1, 0, 0, 1, 0, 0, 1, 0, 1, 1, 0, 1, 1,\n",
       "       1, 1, 1, 0, 1, 1, 1, 1, 1, 0, 1, 0, 1, 1, 1, 1, 1, 1, 0, 0, 1, 1,\n",
       "       1, 1, 1, 1, 1, 0, 1, 1, 1, 0, 0, 1, 0, 0, 1, 0, 1, 0, 0, 1, 0, 0,\n",
       "       0, 1, 1, 0, 1, 1, 1, 1, 1, 1, 1, 0, 1, 0, 0, 0, 1, 1, 0, 1, 1, 0,\n",
       "       1, 0, 0, 1, 1, 1, 1, 1, 1, 1, 1, 0, 1, 0, 1, 1, 1, 0, 0, 0, 0, 1,\n",
       "       1, 1, 1, 1, 1, 1, 0, 1, 0, 1, 1, 1, 1, 0, 0, 1, 0, 0, 0, 1, 1, 1,\n",
       "       0, 1, 1, 0, 1, 1, 0, 1, 1, 0, 1, 0, 1, 0, 1, 0, 0, 1, 1, 1, 1, 1,\n",
       "       0, 0, 0, 1, 0, 1, 0, 1, 1, 1, 1, 0, 1, 1, 1, 0, 1, 1, 1, 1, 1, 1,\n",
       "       0, 1, 1, 1, 1, 1])"
      ]
     },
     "execution_count": 30,
     "metadata": {},
     "output_type": "execute_result"
    }
   ],
   "source": [
    "y_pred"
   ]
  },
  {
   "cell_type": "code",
   "execution_count": 33,
   "metadata": {},
   "outputs": [
    {
     "data": {
      "text/plain": [
       "array([[0.1631128 , 0.8368872 ],\n",
       "       [0.2247007 , 0.7752993 ],\n",
       "       [0.19287755, 0.80712245],\n",
       "       [0.85415651, 0.14584349],\n",
       "       [0.62188475, 0.37811525],\n",
       "       [0.1913319 , 0.8086681 ],\n",
       "       [0.6691035 , 0.3308965 ],\n",
       "       [0.2319393 , 0.7680607 ],\n",
       "       [0.27545372, 0.72454628],\n",
       "       [0.08373642, 0.91626358],\n",
       "       [0.30559474, 0.69440526],\n",
       "       [0.50481617, 0.49518383],\n",
       "       [0.74054613, 0.25945387],\n",
       "       [0.5298444 , 0.4701556 ],\n",
       "       [0.18286306, 0.81713694],\n",
       "       [0.77465301, 0.22534699],\n",
       "       [0.08742966, 0.91257034],\n",
       "       [0.91596598, 0.08403402],\n",
       "       [0.12156558, 0.87843442],\n",
       "       [0.20253434, 0.79746566],\n",
       "       [0.20102213, 0.79897787],\n",
       "       [0.12013132, 0.87986868],\n",
       "       [0.26341927, 0.73658073],\n",
       "       [0.32287818, 0.67712182],\n",
       "       [0.18913771, 0.81086229],\n",
       "       [0.53205384, 0.46794616],\n",
       "       [0.91220579, 0.08779421],\n",
       "       [0.21080606, 0.78919394],\n",
       "       [0.71718444, 0.28281556],\n",
       "       [0.28892129, 0.71107871],\n",
       "       [0.40632423, 0.59367577],\n",
       "       [0.68758282, 0.31241718],\n",
       "       [0.76527626, 0.23472374],\n",
       "       [0.00981459, 0.99018541],\n",
       "       [0.72806893, 0.27193107],\n",
       "       [0.32469039, 0.67530961],\n",
       "       [0.00871133, 0.99128867],\n",
       "       [0.89007534, 0.10992466],\n",
       "       [0.14691835, 0.85308165],\n",
       "       [0.03710524, 0.96289476],\n",
       "       [0.69788397, 0.30211603],\n",
       "       [0.19222838, 0.80777162],\n",
       "       [0.81435458, 0.18564542],\n",
       "       [0.4026164 , 0.5973836 ],\n",
       "       [0.82193438, 0.17806562],\n",
       "       [0.05651551, 0.94348449],\n",
       "       [0.0529356 , 0.9470644 ],\n",
       "       [0.01225262, 0.98774738],\n",
       "       [0.40009964, 0.59990036],\n",
       "       [0.9605789 , 0.0394211 ],\n",
       "       [0.23168339, 0.76831661],\n",
       "       [0.75657789, 0.24342211],\n",
       "       [0.31411865, 0.68588135],\n",
       "       [0.927101  , 0.072899  ],\n",
       "       [0.16226869, 0.83773131],\n",
       "       [0.11161847, 0.88838153],\n",
       "       [0.23130358, 0.76869642],\n",
       "       [0.18643752, 0.81356248],\n",
       "       [0.36776454, 0.63223546],\n",
       "       [0.11271792, 0.88728208],\n",
       "       [0.17859872, 0.82140128],\n",
       "       [0.18629089, 0.81370911],\n",
       "       [0.16155038, 0.83844962],\n",
       "       [0.23398464, 0.76601536],\n",
       "       [0.15590574, 0.84409426],\n",
       "       [0.46671225, 0.53328775],\n",
       "       [0.90948928, 0.09051072],\n",
       "       [0.3487794 , 0.6512206 ],\n",
       "       [0.52275493, 0.47724507],\n",
       "       [0.12093234, 0.87906766],\n",
       "       [0.05233602, 0.94766398],\n",
       "       [0.00248021, 0.99751979],\n",
       "       [0.23710975, 0.76289025],\n",
       "       [0.92082317, 0.07917683],\n",
       "       [0.23329278, 0.76670722],\n",
       "       [0.02352883, 0.97647117],\n",
       "       [0.51614766, 0.48385234],\n",
       "       [0.28343615, 0.71656385],\n",
       "       [0.31234824, 0.68765176],\n",
       "       [0.78007725, 0.21992275],\n",
       "       [0.63904335, 0.36095665],\n",
       "       [0.68011105, 0.31988895],\n",
       "       [0.5601399 , 0.4398601 ],\n",
       "       [0.26370395, 0.73629605],\n",
       "       [0.02979841, 0.97020159],\n",
       "       [0.02231498, 0.97768502],\n",
       "       [0.58993278, 0.41006722],\n",
       "       [0.02707219, 0.97292781],\n",
       "       [0.67605062, 0.32394938],\n",
       "       [0.69563063, 0.30436937],\n",
       "       [0.06493882, 0.93506118],\n",
       "       [0.74306402, 0.25693598],\n",
       "       [0.88279686, 0.11720314],\n",
       "       [0.46391474, 0.53608526],\n",
       "       [0.31375127, 0.68624873],\n",
       "       [0.27068259, 0.72931741],\n",
       "       [0.57763143, 0.42236857],\n",
       "       [0.63780878, 0.36219122],\n",
       "       [0.15828653, 0.84171347],\n",
       "       [0.79811463, 0.20188537],\n",
       "       [0.19758162, 0.80241838],\n",
       "       [0.09823876, 0.90176124],\n",
       "       [0.77543773, 0.22456227],\n",
       "       [0.00806431, 0.99193569],\n",
       "       [0.10617355, 0.89382645],\n",
       "       [0.05673382, 0.94326618],\n",
       "       [0.29081531, 0.70918469],\n",
       "       [0.53438593, 0.46561407],\n",
       "       [0.33616549, 0.66383451],\n",
       "       [0.21906223, 0.78093777],\n",
       "       [0.27448267, 0.72551733],\n",
       "       [0.73483799, 0.26516201],\n",
       "       [0.27850141, 0.72149859],\n",
       "       [0.79585246, 0.20414754],\n",
       "       [0.30793942, 0.69206058],\n",
       "       [0.25771536, 0.74228464],\n",
       "       [0.97610284, 0.02389716],\n",
       "       [0.27416588, 0.72583412],\n",
       "       [0.80545261, 0.19454739],\n",
       "       [0.18556133, 0.81443867],\n",
       "       [0.31602489, 0.68397511],\n",
       "       [0.94743782, 0.05256218],\n",
       "       [0.4885265 , 0.5114735 ],\n",
       "       [0.39052312, 0.60947688],\n",
       "       [0.10247084, 0.89752916],\n",
       "       [0.88766412, 0.11233588],\n",
       "       [0.91150762, 0.08849238],\n",
       "       [0.77334289, 0.22665711],\n",
       "       [0.03972013, 0.96027987],\n",
       "       [0.68696832, 0.31303168],\n",
       "       [0.00520262, 0.99479738],\n",
       "       [0.63639372, 0.36360628],\n",
       "       [0.75018577, 0.24981423],\n",
       "       [0.02402939, 0.97597061],\n",
       "       [0.07836501, 0.92163499],\n",
       "       [0.34958515, 0.65041485],\n",
       "       [0.27349063, 0.72650937],\n",
       "       [0.13603132, 0.86396868],\n",
       "       [0.3943567 , 0.6056433 ],\n",
       "       [0.14344426, 0.85655574],\n",
       "       [0.18780901, 0.81219099],\n",
       "       [0.88125968, 0.11874032],\n",
       "       [0.50484298, 0.49515702],\n",
       "       [0.16472499, 0.83527501],\n",
       "       [0.68520572, 0.31479428],\n",
       "       [0.27581938, 0.72418062],\n",
       "       [0.48493895, 0.51506105],\n",
       "       [0.88958147, 0.11041853],\n",
       "       [0.39055218, 0.60944782],\n",
       "       [0.81069904, 0.18930096],\n",
       "       [0.39525972, 0.60474028],\n",
       "       [0.72554802, 0.27445198],\n",
       "       [0.16498965, 0.83501035],\n",
       "       [0.41641283, 0.58358717],\n",
       "       [0.15807538, 0.84192462],\n",
       "       [0.32141568, 0.67858432],\n",
       "       [0.44790031, 0.55209969],\n",
       "       [0.52292452, 0.47707548],\n",
       "       [0.50774807, 0.49225193],\n",
       "       [0.2016189 , 0.7983811 ],\n",
       "       [0.25963857, 0.74036143],\n",
       "       [0.05528454, 0.94471546],\n",
       "       [0.47651902, 0.52348098],\n",
       "       [0.51340985, 0.48659015],\n",
       "       [0.86794374, 0.13205626],\n",
       "       [0.1665184 , 0.8334816 ],\n",
       "       [0.0259618 , 0.9740382 ],\n",
       "       [0.54208475, 0.45791525],\n",
       "       [0.28607022, 0.71392978],\n",
       "       [0.24820278, 0.75179722],\n",
       "       [0.75548044, 0.24451956],\n",
       "       [0.172645  , 0.827355  ],\n",
       "       [0.14796746, 0.85203254],\n",
       "       [0.0971746 , 0.9028254 ],\n",
       "       [0.33190466, 0.66809534],\n",
       "       [0.50858108, 0.49141892],\n",
       "       [0.41918763, 0.58081237],\n",
       "       [0.86216526, 0.13783474],\n",
       "       [0.38281744, 0.61718256],\n",
       "       [0.55200262, 0.44799738],\n",
       "       [0.23035883, 0.76964117],\n",
       "       [0.30720066, 0.69279934],\n",
       "       [0.23500328, 0.76499672],\n",
       "       [0.29222316, 0.70777684],\n",
       "       [0.57734246, 0.42265754],\n",
       "       [0.06422198, 0.93577802],\n",
       "       [0.24728135, 0.75271865],\n",
       "       [0.26779955, 0.73220045],\n",
       "       [0.39881269, 0.60118731],\n",
       "       [0.98780328, 0.01219672],\n",
       "       [0.70622616, 0.29377384],\n",
       "       [0.03654597, 0.96345403],\n",
       "       [0.40912471, 0.59087529],\n",
       "       [0.52431875, 0.47568125],\n",
       "       [0.84753912, 0.15246088],\n",
       "       [0.39015084, 0.60984916],\n",
       "       [0.96653909, 0.03346091],\n",
       "       [0.15346405, 0.84653595],\n",
       "       [0.97549323, 0.02450677],\n",
       "       [0.53390132, 0.46609868],\n",
       "       [0.45684864, 0.54315136],\n",
       "       [0.66521496, 0.33478504],\n",
       "       [0.93620442, 0.06379558],\n",
       "       [0.32836204, 0.67163796],\n",
       "       [0.76264211, 0.23735789],\n",
       "       [0.25228701, 0.74771299],\n",
       "       [0.42218743, 0.57781257],\n",
       "       [0.56478813, 0.43521187],\n",
       "       [0.11816095, 0.88183905],\n",
       "       [0.26465149, 0.73534851],\n",
       "       [0.23845964, 0.76154036],\n",
       "       [0.28728298, 0.71271702],\n",
       "       [0.85069969, 0.14930031],\n",
       "       [0.68608165, 0.31391835],\n",
       "       [0.70458364, 0.29541636],\n",
       "       [0.09513289, 0.90486711],\n",
       "       [0.24653078, 0.75346922],\n",
       "       [0.23588553, 0.76411447],\n",
       "       [0.19057847, 0.80942153],\n",
       "       [0.13065444, 0.86934556],\n",
       "       [0.18915908, 0.81084092],\n",
       "       [0.15568827, 0.84431173],\n",
       "       [0.6909225 , 0.3090775 ],\n",
       "       [0.94330663, 0.05669337],\n",
       "       [0.24463308, 0.75536692],\n",
       "       [0.34582173, 0.65417827],\n",
       "       [0.23146047, 0.76853953],\n",
       "       [0.09801779, 0.90198221],\n",
       "       [0.06059575, 0.93940425],\n",
       "       [0.15860376, 0.84139624],\n",
       "       [0.65217185, 0.34782815],\n",
       "       [0.90724344, 0.09275656],\n",
       "       [0.03258279, 0.96741721],\n",
       "       [0.94082895, 0.05917105],\n",
       "       [0.73193112, 0.26806888],\n",
       "       [0.27141498, 0.72858502],\n",
       "       [0.54209246, 0.45790754],\n",
       "       [0.21261233, 0.78738767],\n",
       "       [0.34004085, 0.65995915],\n",
       "       [0.51562198, 0.48437802],\n",
       "       [0.25855727, 0.74144273],\n",
       "       [0.13213195, 0.86786805],\n",
       "       [0.08906934, 0.91093066],\n",
       "       [0.22258953, 0.77741047],\n",
       "       [0.09553017, 0.90446983],\n",
       "       [0.74881324, 0.25118676],\n",
       "       [0.44320962, 0.55679038],\n",
       "       [0.47955792, 0.52044208],\n",
       "       [0.15676189, 0.84323811],\n",
       "       [0.14990921, 0.85009079],\n",
       "       [0.35615997, 0.64384003],\n",
       "       [0.5291081 , 0.4708919 ],\n",
       "       [0.30935646, 0.69064354],\n",
       "       [0.88839423, 0.11160577],\n",
       "       [0.23081214, 0.76918786],\n",
       "       [0.11560925, 0.88439075],\n",
       "       [0.00756686, 0.99243314],\n",
       "       [0.16521053, 0.83478947],\n",
       "       [0.34559732, 0.65440268],\n",
       "       [0.01657808, 0.98342192],\n",
       "       [0.7548312 , 0.2451688 ],\n",
       "       [0.56649685, 0.43350315],\n",
       "       [0.44525053, 0.55474947],\n",
       "       [0.07750687, 0.92249313],\n",
       "       [0.0049076 , 0.9950924 ],\n",
       "       [0.05069418, 0.94930582],\n",
       "       [0.14164134, 0.85835866],\n",
       "       [0.26761322, 0.73238678],\n",
       "       [0.2728372 , 0.7271628 ],\n",
       "       [0.66595262, 0.33404738],\n",
       "       [0.15632842, 0.84367158],\n",
       "       [0.29529959, 0.70470041],\n",
       "       [0.47671475, 0.52328525],\n",
       "       [0.90231382, 0.09768618],\n",
       "       [0.72558628, 0.27441372],\n",
       "       [0.0162302 , 0.9837698 ],\n",
       "       [0.74300238, 0.25699762],\n",
       "       [0.585952  , 0.414048  ],\n",
       "       [0.05371768, 0.94628232],\n",
       "       [0.61527105, 0.38472895],\n",
       "       [0.27184406, 0.72815594],\n",
       "       [0.66720967, 0.33279033],\n",
       "       [0.77915122, 0.22084878],\n",
       "       [0.42310177, 0.57689823],\n",
       "       [0.90070802, 0.09929198],\n",
       "       [0.73841234, 0.26158766],\n",
       "       [0.63879352, 0.36120648],\n",
       "       [0.06633283, 0.93366717],\n",
       "       [0.23539219, 0.76460781],\n",
       "       [0.52041116, 0.47958884],\n",
       "       [0.24516534, 0.75483466],\n",
       "       [0.2255764 , 0.7744236 ],\n",
       "       [0.13900381, 0.86099619],\n",
       "       [0.26246041, 0.73753959],\n",
       "       [0.15509369, 0.84490631],\n",
       "       [0.07476919, 0.92523081],\n",
       "       [0.19316955, 0.80683045],\n",
       "       [0.78350047, 0.21649953],\n",
       "       [0.28539671, 0.71460329],\n",
       "       [0.53971091, 0.46028909],\n",
       "       [0.55263246, 0.44736754],\n",
       "       [0.95019536, 0.04980464],\n",
       "       [0.20048294, 0.79951706],\n",
       "       [0.47678877, 0.52321123],\n",
       "       [0.695074  , 0.304926  ],\n",
       "       [0.17861244, 0.82138756],\n",
       "       [0.28522309, 0.71477691],\n",
       "       [0.77997579, 0.22002421],\n",
       "       [0.22899999, 0.77100001],\n",
       "       [0.87262198, 0.12737802],\n",
       "       [0.65127408, 0.34872592],\n",
       "       [0.22488767, 0.77511233],\n",
       "       [0.1906999 , 0.8093001 ],\n",
       "       [0.13684212, 0.86315788],\n",
       "       [0.270072  , 0.729928  ],\n",
       "       [0.20037323, 0.79962677],\n",
       "       [0.36406354, 0.63593646],\n",
       "       [0.46554431, 0.53445569],\n",
       "       [0.21578509, 0.78421491],\n",
       "       [0.92333209, 0.07666791],\n",
       "       [0.12333165, 0.87666835],\n",
       "       [0.64502674, 0.35497326],\n",
       "       [0.49225282, 0.50774718],\n",
       "       [0.43870621, 0.56129379],\n",
       "       [0.31339209, 0.68660791],\n",
       "       [0.52951464, 0.47048536],\n",
       "       [0.90667367, 0.09332633],\n",
       "       [0.8231318 , 0.1768682 ],\n",
       "       [0.81470635, 0.18529365],\n",
       "       [0.07279365, 0.92720635],\n",
       "       [0.41030469, 0.58969531],\n",
       "       [0.17549477, 0.82450523],\n",
       "       [0.07247552, 0.92752448],\n",
       "       [0.22860371, 0.77139629],\n",
       "       [0.23216684, 0.76783316],\n",
       "       [0.2997676 , 0.7002324 ],\n",
       "       [0.76536442, 0.23463558],\n",
       "       [0.15773557, 0.84226443],\n",
       "       [0.87523346, 0.12476654],\n",
       "       [0.26097994, 0.73902006],\n",
       "       [0.00795848, 0.99204152],\n",
       "       [0.18137301, 0.81862699],\n",
       "       [0.02482156, 0.97517844],\n",
       "       [0.82810956, 0.17189044],\n",
       "       [0.75873142, 0.24126858],\n",
       "       [0.08296288, 0.91703712],\n",
       "       [0.53138543, 0.46861457],\n",
       "       [0.50396306, 0.49603694],\n",
       "       [0.59041561, 0.40958439],\n",
       "       [0.17363107, 0.82636893],\n",
       "       [0.41042343, 0.58957657],\n",
       "       [0.10715321, 0.89284679],\n",
       "       [0.82121859, 0.17878141],\n",
       "       [0.00235677, 0.99764323],\n",
       "       [0.19604021, 0.80395979],\n",
       "       [0.96346136, 0.03653864],\n",
       "       [0.22947325, 0.77052675],\n",
       "       [0.05737388, 0.94262612],\n",
       "       [0.56597366, 0.43402634],\n",
       "       [0.26390543, 0.73609457],\n",
       "       [0.46516771, 0.53483229],\n",
       "       [0.8131517 , 0.1868483 ],\n",
       "       [0.44318837, 0.55681163],\n",
       "       [0.75801372, 0.24198628],\n",
       "       [0.4455328 , 0.5544672 ],\n",
       "       [0.73005467, 0.26994533],\n",
       "       [0.00619655, 0.99380345],\n",
       "       [0.55897289, 0.44102711],\n",
       "       [0.81515622, 0.18484378],\n",
       "       [0.11254363, 0.88745637],\n",
       "       [0.07620067, 0.92379933],\n",
       "       [0.14400729, 0.85599271],\n",
       "       [0.22576649, 0.77423351],\n",
       "       [0.06763433, 0.93236567],\n",
       "       [0.94729658, 0.05270342],\n",
       "       [0.88787198, 0.11212802],\n",
       "       [0.70829319, 0.29170681],\n",
       "       [0.19559844, 0.80440156],\n",
       "       [0.76999071, 0.23000929],\n",
       "       [0.22615359, 0.77384641],\n",
       "       [0.70032847, 0.29967153],\n",
       "       [0.10216153, 0.89783847],\n",
       "       [0.01101702, 0.98898298],\n",
       "       [0.45934864, 0.54065136],\n",
       "       [0.09055516, 0.90944484],\n",
       "       [0.69433193, 0.30566807],\n",
       "       [0.12625224, 0.87374776],\n",
       "       [0.27277175, 0.72722825],\n",
       "       [0.33759956, 0.66240044],\n",
       "       [0.65666902, 0.34333098],\n",
       "       [0.00955712, 0.99044288],\n",
       "       [0.24868099, 0.75131901],\n",
       "       [0.43490038, 0.56509962],\n",
       "       [0.02388735, 0.97611265],\n",
       "       [0.00797459, 0.99202541],\n",
       "       [0.21505364, 0.78494636],\n",
       "       [0.78312217, 0.21687783],\n",
       "       [0.12749776, 0.87250224],\n",
       "       [0.19099898, 0.80900102],\n",
       "       [0.20810777, 0.79189223],\n",
       "       [0.07913086, 0.92086914],\n",
       "       [0.19996602, 0.80003398]])"
      ]
     },
     "execution_count": 33,
     "metadata": {},
     "output_type": "execute_result"
    }
   ],
   "source": [
    "log.predict_proba(X_test)"
   ]
  },
  {
   "cell_type": "code",
   "execution_count": 34,
   "metadata": {},
   "outputs": [
    {
     "data": {
      "text/plain": [
       "0.7991452991452992"
      ]
     },
     "execution_count": 34,
     "metadata": {},
     "output_type": "execute_result"
    }
   ],
   "source": [
    "log.score(X_train,y_train)"
   ]
  },
  {
   "cell_type": "code",
   "execution_count": 35,
   "metadata": {},
   "outputs": [
    {
     "data": {
      "text/plain": [
       "0.8034825870646766"
      ]
     },
     "execution_count": 35,
     "metadata": {},
     "output_type": "execute_result"
    }
   ],
   "source": [
    "# accuracy\n",
    "log.score(X_test,y_test)"
   ]
  },
  {
   "cell_type": "code",
   "execution_count": 36,
   "metadata": {},
   "outputs": [],
   "source": [
    "# Evaluation metrics"
   ]
  },
  {
   "cell_type": "code",
   "execution_count": 37,
   "metadata": {},
   "outputs": [],
   "source": [
    "from sklearn.metrics import accuracy_score, precision_score, recall_score, f1_score"
   ]
  },
  {
   "cell_type": "code",
   "execution_count": 38,
   "metadata": {},
   "outputs": [
    {
     "data": {
      "text/plain": [
       "0.8034825870646766"
      ]
     },
     "execution_count": 38,
     "metadata": {},
     "output_type": "execute_result"
    }
   ],
   "source": [
    "accuracy_score(y_test,y_pred)"
   ]
  },
  {
   "cell_type": "code",
   "execution_count": 39,
   "metadata": {},
   "outputs": [
    {
     "data": {
      "text/plain": [
       "0.8192307692307692"
      ]
     },
     "execution_count": 39,
     "metadata": {},
     "output_type": "execute_result"
    }
   ],
   "source": [
    "precision_score(y_test,y_pred)"
   ]
  },
  {
   "cell_type": "code",
   "execution_count": 40,
   "metadata": {},
   "outputs": [
    {
     "data": {
      "text/plain": [
       "0.8693877551020408"
      ]
     },
     "execution_count": 40,
     "metadata": {},
     "output_type": "execute_result"
    }
   ],
   "source": [
    "recall_score(y_test,y_pred) "
   ]
  },
  {
   "cell_type": "code",
   "execution_count": 41,
   "metadata": {},
   "outputs": [
    {
     "data": {
      "text/plain": [
       "0.8435643564356436"
      ]
     },
     "execution_count": 41,
     "metadata": {},
     "output_type": "execute_result"
    }
   ],
   "source": [
    "f1_score(y_test,y_pred)"
   ]
  },
  {
   "cell_type": "code",
   "execution_count": 42,
   "metadata": {},
   "outputs": [],
   "source": [
    "from sklearn.metrics import classification_report, confusion_matrix"
   ]
  },
  {
   "cell_type": "code",
   "execution_count": 44,
   "metadata": {},
   "outputs": [
    {
     "name": "stdout",
     "output_type": "stream",
     "text": [
      "              precision    recall  f1-score   support\n",
      "\n",
      "           0       0.77      0.70      0.74       157\n",
      "           1       0.82      0.87      0.84       245\n",
      "\n",
      "    accuracy                           0.80       402\n",
      "   macro avg       0.80      0.79      0.79       402\n",
      "weighted avg       0.80      0.80      0.80       402\n",
      "\n"
     ]
    }
   ],
   "source": [
    "print(classification_report(y_test,y_pred))"
   ]
  },
  {
   "cell_type": "code",
   "execution_count": 48,
   "metadata": {},
   "outputs": [],
   "source": [
    "tn, fp, fn, tp = confusion_matrix(y_test,y_pred).ravel()"
   ]
  },
  {
   "cell_type": "code",
   "execution_count": 49,
   "metadata": {},
   "outputs": [
    {
     "name": "stdout",
     "output_type": "stream",
     "text": [
      "213 47\n",
      "32 110\n"
     ]
    }
   ],
   "source": [
    "print(tp,fp)\n",
    "print(fn,tn)"
   ]
  },
  {
   "cell_type": "code",
   "execution_count": 50,
   "metadata": {},
   "outputs": [],
   "source": [
    "accuracy = (tp+tn)/(tp+tn+fp+fn)"
   ]
  },
  {
   "cell_type": "code",
   "execution_count": 51,
   "metadata": {},
   "outputs": [
    {
     "data": {
      "text/plain": [
       "0.8034825870646766"
      ]
     },
     "execution_count": 51,
     "metadata": {},
     "output_type": "execute_result"
    }
   ],
   "source": [
    "accuracy"
   ]
  },
  {
   "cell_type": "code",
   "execution_count": null,
   "metadata": {},
   "outputs": [],
   "source": []
  }
 ],
 "metadata": {
  "kernelspec": {
   "display_name": "Python 3",
   "language": "python",
   "name": "python3"
  },
  "language_info": {
   "codemirror_mode": {
    "name": "ipython",
    "version": 3
   },
   "file_extension": ".py",
   "mimetype": "text/x-python",
   "name": "python",
   "nbconvert_exporter": "python",
   "pygments_lexer": "ipython3",
   "version": "3.7.4"
  }
 },
 "nbformat": 4,
 "nbformat_minor": 2
}
